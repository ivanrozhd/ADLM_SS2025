{
 "cells": [
  {
   "cell_type": "code",
   "execution_count": 2,
   "id": "4cfcbb52",
   "metadata": {},
   "outputs": [],
   "source": [
    "import pandas as pd\n",
    "from sklearn.feature_extraction.text import CountVectorizer, ENGLISH_STOP_WORDS"
   ]
  },
  {
   "cell_type": "code",
   "execution_count": 3,
   "id": "f1fa6ce4",
   "metadata": {},
   "outputs": [
    {
     "data": {
      "text/html": [
       "<div>\n",
       "<style scoped>\n",
       "    .dataframe tbody tr th:only-of-type {\n",
       "        vertical-align: middle;\n",
       "    }\n",
       "\n",
       "    .dataframe tbody tr th {\n",
       "        vertical-align: top;\n",
       "    }\n",
       "\n",
       "    .dataframe thead th {\n",
       "        text-align: right;\n",
       "    }\n",
       "</style>\n",
       "<table border=\"1\" class=\"dataframe\">\n",
       "  <thead>\n",
       "    <tr style=\"text-align: right;\">\n",
       "      <th></th>\n",
       "      <th>id</th>\n",
       "      <th>name</th>\n",
       "      <th>caption</th>\n",
       "    </tr>\n",
       "  </thead>\n",
       "  <tbody>\n",
       "    <tr>\n",
       "      <th>0</th>\n",
       "      <td>ROCO_00002</td>\n",
       "      <td>PMC4083729_AMHSR-4-14-g002.jpg</td>\n",
       "      <td>Computed tomography scan in axial view showin...</td>\n",
       "    </tr>\n",
       "    <tr>\n",
       "      <th>1</th>\n",
       "      <td>ROCO_00003</td>\n",
       "      <td>PMC2837471_IJD2009-150251.001.jpg</td>\n",
       "      <td>Bacterial contamination occurred after comple...</td>\n",
       "    </tr>\n",
       "    <tr>\n",
       "      <th>2</th>\n",
       "      <td>ROCO_00004</td>\n",
       "      <td>PMC2505281_11999_2007_30_Fig6_HTML.jpg</td>\n",
       "      <td>The patient had residual paralysis of the han...</td>\n",
       "    </tr>\n",
       "    <tr>\n",
       "      <th>3</th>\n",
       "      <td>ROCO_00005</td>\n",
       "      <td>PMC3745845_IJD2013-683423.005.jpg</td>\n",
       "      <td>Panoramic radiograph after immediate loading.\\n</td>\n",
       "    </tr>\n",
       "    <tr>\n",
       "      <th>4</th>\n",
       "      <td>ROCO_00007</td>\n",
       "      <td>PMC4917066_amjcaserep-17-301-g001.jpg</td>\n",
       "      <td>Plain abdomen x-ray: Multiple air levels at t...</td>\n",
       "    </tr>\n",
       "  </tbody>\n",
       "</table>\n",
       "</div>"
      ],
      "text/plain": [
       "           id                                    name  \\\n",
       "0  ROCO_00002          PMC4083729_AMHSR-4-14-g002.jpg   \n",
       "1  ROCO_00003       PMC2837471_IJD2009-150251.001.jpg   \n",
       "2  ROCO_00004  PMC2505281_11999_2007_30_Fig6_HTML.jpg   \n",
       "3  ROCO_00005       PMC3745845_IJD2013-683423.005.jpg   \n",
       "4  ROCO_00007   PMC4917066_amjcaserep-17-301-g001.jpg   \n",
       "\n",
       "                                             caption  \n",
       "0   Computed tomography scan in axial view showin...  \n",
       "1   Bacterial contamination occurred after comple...  \n",
       "2   The patient had residual paralysis of the han...  \n",
       "3    Panoramic radiograph after immediate loading.\\n  \n",
       "4   Plain abdomen x-ray: Multiple air levels at t...  "
      ]
     },
     "execution_count": 3,
     "metadata": {},
     "output_type": "execute_result"
    }
   ],
   "source": [
    "df = pd.read_csv('/vol/miltank/users/doanb/ADLM_SS2025/ROCO-dataset/radiologytraindata.csv')\n",
    "#df.columns # Index(['id', 'name', 'caption'], dtype='object')\n",
    "df.head() "
   ]
  },
  {
   "cell_type": "markdown",
   "id": "989dc44f",
   "metadata": {},
   "source": [
    "# Abdominal"
   ]
  },
  {
   "cell_type": "code",
   "execution_count": null,
   "id": "a3e8dad4",
   "metadata": {},
   "outputs": [
    {
     "name": "stdout",
     "output_type": "stream",
     "text": [
      "Number of entries with 'abdomen' or 'abdominal': 5089\n"
     ]
    },
    {
     "data": {
      "text/html": [
       "<div>\n",
       "<style scoped>\n",
       "    .dataframe tbody tr th:only-of-type {\n",
       "        vertical-align: middle;\n",
       "    }\n",
       "\n",
       "    .dataframe tbody tr th {\n",
       "        vertical-align: top;\n",
       "    }\n",
       "\n",
       "    .dataframe thead th {\n",
       "        text-align: right;\n",
       "    }\n",
       "</style>\n",
       "<table border=\"1\" class=\"dataframe\">\n",
       "  <thead>\n",
       "    <tr style=\"text-align: right;\">\n",
       "      <th></th>\n",
       "      <th>id</th>\n",
       "      <th>name</th>\n",
       "      <th>caption</th>\n",
       "    </tr>\n",
       "  </thead>\n",
       "  <tbody>\n",
       "    <tr>\n",
       "      <th>4</th>\n",
       "      <td>ROCO_00007</td>\n",
       "      <td>PMC4917066_amjcaserep-17-301-g001.jpg</td>\n",
       "      <td>Plain abdomen x-ray: Multiple air levels at t...</td>\n",
       "    </tr>\n",
       "    <tr>\n",
       "      <th>23</th>\n",
       "      <td>ROCO_00030</td>\n",
       "      <td>PMC362879_1471-2466-4-1-1.jpg</td>\n",
       "      <td>Abdominal CT scan showing pancreatic pseudocy...</td>\n",
       "    </tr>\n",
       "    <tr>\n",
       "      <th>24</th>\n",
       "      <td>ROCO_00032</td>\n",
       "      <td>PMC4495506_IJU-31-259-g004.jpg</td>\n",
       "      <td>Axial contrast-enhanced computed tomography i...</td>\n",
       "    </tr>\n",
       "    <tr>\n",
       "      <th>41</th>\n",
       "      <td>ROCO_00050</td>\n",
       "      <td>PMC4239440_PAMJ-18-217-g001.jpg</td>\n",
       "      <td>Free air beneath the diaphragm at abdominal x...</td>\n",
       "    </tr>\n",
       "    <tr>\n",
       "      <th>70</th>\n",
       "      <td>ROCO_00088</td>\n",
       "      <td>PMC4641558_10.1177_2054270415611833-fig2.jpg</td>\n",
       "      <td>Sagittal CT angiogram of abdomen demonstratin...</td>\n",
       "    </tr>\n",
       "  </tbody>\n",
       "</table>\n",
       "</div>"
      ],
      "text/plain": [
       "            id                                          name  \\\n",
       "4   ROCO_00007         PMC4917066_amjcaserep-17-301-g001.jpg   \n",
       "23  ROCO_00030                 PMC362879_1471-2466-4-1-1.jpg   \n",
       "24  ROCO_00032                PMC4495506_IJU-31-259-g004.jpg   \n",
       "41  ROCO_00050               PMC4239440_PAMJ-18-217-g001.jpg   \n",
       "70  ROCO_00088  PMC4641558_10.1177_2054270415611833-fig2.jpg   \n",
       "\n",
       "                                              caption  \n",
       "4    Plain abdomen x-ray: Multiple air levels at t...  \n",
       "23   Abdominal CT scan showing pancreatic pseudocy...  \n",
       "24   Axial contrast-enhanced computed tomography i...  \n",
       "41   Free air beneath the diaphragm at abdominal x...  \n",
       "70   Sagittal CT angiogram of abdomen demonstratin...  "
      ]
     },
     "execution_count": 3,
     "metadata": {},
     "output_type": "execute_result"
    }
   ],
   "source": [
    "# Filter only entries with 'caption' containing 'abdomen' or 'abdominal'\n",
    "df_abdominal = df[df['caption'].str.contains('abdomen|abdominal', case=False, na=False)]\n",
    "print(f\"Number of entries with 'abdomen' or 'abdominal': {len(df_abdominal)}\")\n",
    "df_abdominal.head()\n",
    "# save the column 'name' to a new csv file \n",
    "#df_abdominal[['name']].to_csv('/vol/miltank/users/doanb/ADLM_SS2025/ROCO-dataset/radiology_abdominal_names.csv', index=False)\n"
   ]
  },
  {
   "cell_type": "code",
   "execution_count": 11,
   "id": "6f5f6662",
   "metadata": {},
   "outputs": [
    {
     "name": "stderr",
     "output_type": "stream",
     "text": [
      "/meta/opt/anaconda3/lib/python3.12/site-packages/sklearn/feature_extraction/text.py:406: UserWarning: Your stop_words may be inconsistent with your preprocessing. Tokenizing the stop words generated tokens ['ray'] not in stop_words.\n",
      "  warnings.warn(\n"
     ]
    }
   ],
   "source": [
    "not_include_terms = [\n",
    "    \"ct\", \"computed\", \"tomography\",\"MRI\", \"MR\", \"magnetic\", \"resonance\", \"X-ray\", \"radiograph\", \"PET\", \n",
    "    \"scan\", \"scans\", \"image\", \"images\", \"figure\", \"figures\", \n",
    "    \"shows\", \"showing\", \"seen\", \"demonstrating\", \"presenting\", \"demonstrates\",\n",
    "]\n",
    "default_english_stop_words = CountVectorizer(stop_words='english').get_stop_words()\n",
    "custom_stop_words = list(set(default_english_stop_words).union(term.lower() for term in not_include_terms))\n",
    "\n",
    "# Extract common bigrams and trigrams\n",
    "vectorizer = CountVectorizer(ngram_range=(3, 10),  stop_words=custom_stop_words, min_df=5) \n",
    "X = vectorizer.fit_transform(df_abdominal['caption'])\n",
    "# Get the feature names (bigrams and trigrams)\n",
    "feature_names = vectorizer.get_feature_names_out()\n",
    "# Convert to a DataFrame for better visualization\n",
    "df_bigrams_trigrams = pd.DataFrame(X.toarray(), columns=feature_names)\n",
    "# Sum the occurrences of each bigram and trigram\n",
    "bigram_trigram_counts = df_bigrams_trigrams.sum().sort_values(ascending=False)\n",
    "\n",
    "# save to an excel file\n",
    "#output_file = '/vol/miltank/users/doanb/ADLM_SS2025/ngocs_use_cases/n_grams_abdominal.xlsx'\n",
    "#bigram_trigram_counts.to_excel(output_file, index=True, header=['Count'])\n",
    "\n",
    "# make bigram_trigram_counts to a DataFrame\n",
    "df_bigrams_trigrams_counts = pd.DataFrame(bigram_trigram_counts).reset_index()\n",
    "df_bigrams_trigrams_counts.columns = ['n_gram', 'count']"
   ]
  },
  {
   "cell_type": "code",
   "execution_count": 34,
   "id": "85183b82",
   "metadata": {},
   "outputs": [
    {
     "data": {
      "text/html": [
       "<div>\n",
       "<style scoped>\n",
       "    .dataframe tbody tr th:only-of-type {\n",
       "        vertical-align: middle;\n",
       "    }\n",
       "\n",
       "    .dataframe tbody tr th {\n",
       "        vertical-align: top;\n",
       "    }\n",
       "\n",
       "    .dataframe thead th {\n",
       "        text-align: right;\n",
       "    }\n",
       "</style>\n",
       "<table border=\"1\" class=\"dataframe\">\n",
       "  <thead>\n",
       "    <tr style=\"text-align: right;\">\n",
       "      <th></th>\n",
       "      <th>n_gram</th>\n",
       "      <th>count</th>\n",
       "    </tr>\n",
       "  </thead>\n",
       "  <tbody>\n",
       "    <tr>\n",
       "      <th>2</th>\n",
       "      <td>anterior abdominal wall</td>\n",
       "      <td>73</td>\n",
       "    </tr>\n",
       "    <tr>\n",
       "      <th>80</th>\n",
       "      <td>lateral abdominal wall</td>\n",
       "      <td>12</td>\n",
       "    </tr>\n",
       "    <tr>\n",
       "      <th>118</th>\n",
       "      <td>abdominal wall mass</td>\n",
       "      <td>10</td>\n",
       "    </tr>\n",
       "    <tr>\n",
       "      <th>137</th>\n",
       "      <td>left abdominal wall</td>\n",
       "      <td>9</td>\n",
       "    </tr>\n",
       "    <tr>\n",
       "      <th>186</th>\n",
       "      <td>right abdominal wall</td>\n",
       "      <td>8</td>\n",
       "    </tr>\n",
       "    <tr>\n",
       "      <th>190</th>\n",
       "      <td>abdominal wall arrow</td>\n",
       "      <td>8</td>\n",
       "    </tr>\n",
       "    <tr>\n",
       "      <th>192</th>\n",
       "      <td>abdominal wall muscles</td>\n",
       "      <td>8</td>\n",
       "    </tr>\n",
       "    <tr>\n",
       "      <th>202</th>\n",
       "      <td>abdominal wall defect</td>\n",
       "      <td>7</td>\n",
       "    </tr>\n",
       "    <tr>\n",
       "      <th>363</th>\n",
       "      <td>lower abdominal wall</td>\n",
       "      <td>6</td>\n",
       "    </tr>\n",
       "    <tr>\n",
       "      <th>547</th>\n",
       "      <td>left lateral abdominal wall</td>\n",
       "      <td>5</td>\n",
       "    </tr>\n",
       "    <tr>\n",
       "      <th>555</th>\n",
       "      <td>anterior abdominal wall arrow</td>\n",
       "      <td>5</td>\n",
       "    </tr>\n",
       "    <tr>\n",
       "      <th>569</th>\n",
       "      <td>mass abdominal wall</td>\n",
       "      <td>5</td>\n",
       "    </tr>\n",
       "    <tr>\n",
       "      <th>584</th>\n",
       "      <td>posterior abdominal wall</td>\n",
       "      <td>5</td>\n",
       "    </tr>\n",
       "  </tbody>\n",
       "</table>\n",
       "</div>"
      ],
      "text/plain": [
       "                            n_gram  count\n",
       "2          anterior abdominal wall     73\n",
       "80          lateral abdominal wall     12\n",
       "118            abdominal wall mass     10\n",
       "137            left abdominal wall      9\n",
       "186           right abdominal wall      8\n",
       "190           abdominal wall arrow      8\n",
       "192         abdominal wall muscles      8\n",
       "202          abdominal wall defect      7\n",
       "363           lower abdominal wall      6\n",
       "547    left lateral abdominal wall      5\n",
       "555  anterior abdominal wall arrow      5\n",
       "569            mass abdominal wall      5\n",
       "584       posterior abdominal wall      5"
      ]
     },
     "execution_count": 34,
     "metadata": {},
     "output_type": "execute_result"
    }
   ],
   "source": [
    "df_filtered = df_bigrams_trigrams_counts[df_bigrams_trigrams_counts['n_gram'].str.contains('abdominal wall', case=False, na=False)]\n",
    "df_filtered"
   ]
  },
  {
   "cell_type": "code",
   "execution_count": null,
   "id": "477b7ad1",
   "metadata": {},
   "outputs": [],
   "source": [
    "# Filter all captions containing the term and save to an excel file\n",
    "df_term = df_abdominal[df_abdominal['caption'].str.contains(\"anterior abdominal wall\", case=False, na=False) \n",
    "                       #& ( \n",
    "                            #df_abdominal['caption'].str.contains('hepatom', case=False, na=False) |\n",
    "                            #df_abdominal['caption'].str.contains('shrink', case=False, na=False) |\n",
    "                            #df_abdominal['caption'].str.contains('tumor', case=False, na=False) |\n",
    "                            #df_abdominal['caption'].str.contains('lesion', case=False, na=False) |\n",
    "                            #df_abdominal['caption'].str.contains('anterior abdominal wall', case=False, na=False) )\n",
    "                        ]\n",
    "df_term.to_excel('/vol/miltank/users/doanb/ADLM_SS2025/ngocs_use_cases/filtered_abdominal_term.xlsx', index=False)\n",
    "# save the column 'name' to a new csv file \n",
    "df_term[['name']].to_csv('/vol/miltank/users/doanb/ADLM_SS2025/ngocs_use_cases/filtered_abdominal_term_names.csv', index=False)"
   ]
  },
  {
   "cell_type": "code",
   "execution_count": 55,
   "id": "16093b02",
   "metadata": {},
   "outputs": [
    {
     "name": "stdout",
     "output_type": "stream",
     "text": [
      "Unique scanning modalities found in the captions:\n",
      "CT: 3035 occurrences\n",
      "computed tomography: 1051 occurrences\n",
      "radiograph: 298 occurrences\n",
      "X-ray: 355 occurrences\n",
      "MRI: 149 occurrences\n",
      "PET: 39 occurrences\n",
      "MR: 176 occurrences\n",
      "T1-weighted: 15 occurrences\n",
      "magnetic resonance: 97 occurrences\n",
      "T2-weighted: 30 occurrences\n",
      "positron emission tomography: 18 occurrences\n",
      "Number of entries remaining after filtering out known modalities: 748\n"
     ]
    }
   ],
   "source": [
    "# Get unique scanning modalities from the 'caption' column\n",
    "unique_modalities = df_abdominal['caption'].str.extract(r'\\b(CT|computed tomography|MRI|MR|T1-weighted|T2-weighted|fMRI|magnetic resonance|X-ray|radiograph|PET|positron emission tomography)\\b', expand=False).dropna().unique()\n",
    "print(\"Unique scanning modalities found in the captions:\")\n",
    "for modality in unique_modalities:\n",
    "    #print(modality) with count of occurrences\n",
    "    count = df_abdominal['caption'].str.contains(modality, case=False, na=False).sum()\n",
    "    print(f\"{modality}: {count} occurrences\")\n",
    "\n",
    "# how many entries are remain after filtering out all entries with the modalities listed above?\n",
    "df_abdominal_filtered = df_abdominal[~df_abdominal['caption'].str.contains('|'.join(unique_modalities), case=False, na=False)]\n",
    "print(f\"Number of entries remaining after filtering out known modalities: {len(df_abdominal_filtered)}\")\n",
    "\n"
   ]
  },
  {
   "cell_type": "code",
   "execution_count": 27,
   "id": "5dfb4705",
   "metadata": {},
   "outputs": [
    {
     "name": "stdout",
     "output_type": "stream",
     "text": [
      "Number of MRI with abdominal 261 -> too littel\n"
     ]
    }
   ],
   "source": [
    "# Filter all captions containing mri related terms\n",
    "df_abdominal_mri = df_abdominal[df_abdominal['caption'].str.contains('MRI|MR|T1-weighted|T2-weighted|fMRI|magnetic resonance', case=False, na=False)]\n",
    "print(f\"Number of MRI with abdominal {len(df_abdominal_mri)} -> too littel\") \n",
    "# save to a new excel file\n",
    "# df_abdominal_mri.to_excel('/vol/miltank/users/doanb/ADLM_SS2025/ngocs_use_cases/df_abdominal_mri.xlsx', index=False)"
   ]
  },
  {
   "cell_type": "code",
   "execution_count": 25,
   "id": "a190d860",
   "metadata": {},
   "outputs": [
    {
     "name": "stdout",
     "output_type": "stream",
     "text": [
      "Number of CT with abdominal 3691\n"
     ]
    }
   ],
   "source": [
    "# Filter all captions containing ct related terms\n",
    "df_abdominal_ct = df_abdominal[df_abdominal['caption'].str.contains('CT|computed tomography', case=False, na=False)]\n",
    "print(f\"Number of CT with abdominal {len(df_abdominal_ct)}\")\n",
    "# save to a new excel file\n",
    "df_abdominal_ct.to_excel('/vol/miltank/users/doanb/ADLM_SS2025/ngocs_use_cases/df_abdominal_ct.xlsx', index=False)"
   ]
  },
  {
   "cell_type": "code",
   "execution_count": 26,
   "id": "ca8ddaea",
   "metadata": {},
   "outputs": [
    {
     "name": "stdout",
     "output_type": "stream",
     "text": [
      "Number of X-ray with abdominal 647\n"
     ]
    }
   ],
   "source": [
    "# Filter all captions containing xray related terms\n",
    "df_abdominal_xray = df_abdominal[df_abdominal['caption'].str.contains('X-ray|radiograph', case=False, na=False)]\n",
    "print(f\"Number of X-ray with abdominal {len(df_abdominal_xray)}\")\n",
    "# save to a new excel file\n",
    "df_abdominal_xray.to_excel('/vol/miltank/users/doanb/ADLM_SS2025/ngocs_use_cases/df_abdominal_xray.xlsx', index=False)"
   ]
  },
  {
   "cell_type": "markdown",
   "id": "5cdc3394",
   "metadata": {},
   "source": [
    "# Chest"
   ]
  },
  {
   "cell_type": "code",
   "execution_count": 27,
   "id": "5bf036ef",
   "metadata": {},
   "outputs": [
    {
     "name": "stdout",
     "output_type": "stream",
     "text": [
      "Number of entries: 288\n"
     ]
    },
    {
     "data": {
      "text/html": [
       "<div>\n",
       "<style scoped>\n",
       "    .dataframe tbody tr th:only-of-type {\n",
       "        vertical-align: middle;\n",
       "    }\n",
       "\n",
       "    .dataframe tbody tr th {\n",
       "        vertical-align: top;\n",
       "    }\n",
       "\n",
       "    .dataframe thead th {\n",
       "        text-align: right;\n",
       "    }\n",
       "</style>\n",
       "<table border=\"1\" class=\"dataframe\">\n",
       "  <thead>\n",
       "    <tr style=\"text-align: right;\">\n",
       "      <th></th>\n",
       "      <th>id</th>\n",
       "      <th>name</th>\n",
       "      <th>caption</th>\n",
       "    </tr>\n",
       "  </thead>\n",
       "  <tbody>\n",
       "    <tr>\n",
       "      <th>175</th>\n",
       "      <td>ROCO_00222</td>\n",
       "      <td>PMC2700481_ATM-04-75-g016.jpg</td>\n",
       "      <td>Radiograph of chest and abdomen of a neonate ...</td>\n",
       "    </tr>\n",
       "    <tr>\n",
       "      <th>193</th>\n",
       "      <td>ROCO_00245</td>\n",
       "      <td>PMC5050014_pone.0163490.g001.jpg</td>\n",
       "      <td>Method for determining Cardiothoracic Ratio.D...</td>\n",
       "    </tr>\n",
       "    <tr>\n",
       "      <th>550</th>\n",
       "      <td>ROCO_00698</td>\n",
       "      <td>PMC3034699_1479-5876-9-12-1.jpg</td>\n",
       "      <td>A full range of cardiac support technology. T...</td>\n",
       "    </tr>\n",
       "    <tr>\n",
       "      <th>676</th>\n",
       "      <td>ROCO_00851</td>\n",
       "      <td>PMC4974773_13104_2016_2181_Fig3_HTML.jpg</td>\n",
       "      <td>Chest radiograph showing cardiomegaly and bil...</td>\n",
       "    </tr>\n",
       "    <tr>\n",
       "      <th>1466</th>\n",
       "      <td>ROCO_01838</td>\n",
       "      <td>PMC3669303_pone.0064603.g003.jpg</td>\n",
       "      <td>Postero-anterior chest radiograph of the prob...</td>\n",
       "    </tr>\n",
       "  </tbody>\n",
       "</table>\n",
       "</div>"
      ],
      "text/plain": [
       "              id                                      name  \\\n",
       "175   ROCO_00222             PMC2700481_ATM-04-75-g016.jpg   \n",
       "193   ROCO_00245          PMC5050014_pone.0163490.g001.jpg   \n",
       "550   ROCO_00698           PMC3034699_1479-5876-9-12-1.jpg   \n",
       "676   ROCO_00851  PMC4974773_13104_2016_2181_Fig3_HTML.jpg   \n",
       "1466  ROCO_01838          PMC3669303_pone.0064603.g003.jpg   \n",
       "\n",
       "                                                caption  \n",
       "175    Radiograph of chest and abdomen of a neonate ...  \n",
       "193    Method for determining Cardiothoracic Ratio.D...  \n",
       "550    A full range of cardiac support technology. T...  \n",
       "676    Chest radiograph showing cardiomegaly and bil...  \n",
       "1466   Postero-anterior chest radiograph of the prob...  "
      ]
     },
     "execution_count": 27,
     "metadata": {},
     "output_type": "execute_result"
    }
   ],
   "source": [
    "# Filter only entries with 'caption' containing 'chest' and \"mediasti\"\n",
    "df_chest = df[df['caption'].str.contains('chest', case=False, na=False) \n",
    "              & df['caption'].str.contains('cardiac|cardiomegaly', case=False, na=False) # mediasti/ lung / cardiac|cardiomegaly\n",
    "              #& df['caption'].str.contains('enlarge', case=False, na=False)\n",
    "            ]\n",
    "print(f\"Number of entries: {len(df_chest)}\")\n",
    "\n",
    "# save the column 'name' to a new csv file \n",
    "#df_chest[['name']].to_csv('/vol/miltank/users/doanb/ADLM_SS2025/ngocs_use_cases/filtered_chest_names.csv', index=False)\n",
    "\n",
    "#df_chest.to_excel('/vol/miltank/users/doanb/ADLM_SS2025/ngocs_use_cases/filtered_chest.xlsx', index=False)\n",
    "\n",
    "df_chest.head()\n",
    "\n"
   ]
  },
  {
   "cell_type": "code",
   "execution_count": 15,
   "id": "aae2acaf",
   "metadata": {},
   "outputs": [
    {
     "name": "stdout",
     "output_type": "stream",
     "text": [
      " Chest CT before treatment (27-Sep-2001) show that conglomeration of a size of 5.5 × 4.2 cm at the left lower hilus pulmonis, large amount of accumulation of fluid in the left thoracic cavity, enlarged lymph nodes in the mediastinum.\n",
      "\n"
     ]
    }
   ],
   "source": [
    "# print out the caption of the image with name 'PMC529310_1479-5876-2-33-1.jpg'\n",
    "print(df[df['name'] == 'PMC529310_1479-5876-2-33-1.jpg']['caption'].values[0])"
   ]
  }
 ],
 "metadata": {
  "kernelspec": {
   "display_name": "base",
   "language": "python",
   "name": "python3"
  },
  "language_info": {
   "codemirror_mode": {
    "name": "ipython",
    "version": 3
   },
   "file_extension": ".py",
   "mimetype": "text/x-python",
   "name": "python",
   "nbconvert_exporter": "python",
   "pygments_lexer": "ipython3",
   "version": "3.12.7"
  }
 },
 "nbformat": 4,
 "nbformat_minor": 5
}
